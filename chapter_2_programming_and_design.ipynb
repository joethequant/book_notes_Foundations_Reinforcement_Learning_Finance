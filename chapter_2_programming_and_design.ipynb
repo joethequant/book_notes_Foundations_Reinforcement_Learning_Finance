{
 "cells": [
  {
   "cell_type": "code",
   "execution_count": 1,
   "metadata": {},
   "outputs": [],
   "source": [
    "# https://github.com/TikhonJelvis/RL-book\n",
    "\n",
    "\n",
    "from random import randint"
   ]
  },
  {
   "cell_type": "code",
   "execution_count": 2,
   "metadata": {},
   "outputs": [],
   "source": [
    "#this is not good as it doesn't:\n",
    "#- generates a random number, but doesn't reference any type of distribution.\n",
    "\n",
    "\n",
    "def six_sided_die():\n",
    "    return randint(1, 6)\n",
    "\n",
    "def roll_dice():\n",
    "    return six_sided_die() + six_sided_die()\n",
    "\n"
   ]
  },
  {
   "cell_type": "code",
   "execution_count": 3,
   "metadata": {},
   "outputs": [],
   "source": [
    "# Need to create an abstraction for the distribution.\n",
    "# We use an interface to define the contract for the distribution\n",
    "# interface: a class that is a definition of what we require for something to qualify as a distribution.\n",
    "# Any distribution we create in the future will have to implement the sample method.\n",
    "\n",
    "from abc import ABC, abstractmethod\n",
    "\n",
    "class Distribution(ABC):\n",
    "    @abstractmethod\n",
    "    def sample(self):\n",
    "        pass\n"
   ]
  },
  {
   "cell_type": "code",
   "execution_count": 4,
   "metadata": {},
   "outputs": [
    {
     "name": "stdout",
     "output_type": "stream",
     "text": [
      "Die(sides=6)\n",
      "You rolled: 5\n",
      "True\n",
      "False\n"
     ]
    },
    {
     "data": {
      "text/plain": [
       "False"
      ]
     },
     "execution_count": 4,
     "metadata": {},
     "output_type": "execute_result"
    }
   ],
   "source": [
    "# Now we can create a class that implements the Distribution interface called a concrete class.\n",
    "# This class will be a concrete implementation of the Distribution interface.\n",
    "# Added __repr__ method to make it easier to print the object.\n",
    "# Added __eq__ method to make it easier to compare dice objects correctly using number sides.\n",
    "class Die(Distribution):\n",
    "    def __init__(self, sides):\n",
    "        self.sides = sides\n",
    "\n",
    "    def __repr__(self):\n",
    "        return f'Die(sides={self.sides})'\n",
    "    \n",
    "    def __eq__(self, other):\n",
    "        return isinstance(other, Die) and self.sides == other.sides\n",
    "    \n",
    "    def sample(self):\n",
    "        return randint(1, self.sides)\n",
    "\n",
    "six_sided_die = Die(6)\n",
    "\n",
    "def roll_dice():\n",
    "    return six_sided_die.sample() + six_sided_die.sample()\n",
    "\n",
    "print(six_sided_die)\n",
    "\n",
    "play_monopoly = roll_dice()\n",
    "print(f'You rolled: {play_monopoly}')\n",
    "\n",
    "#test the __eq__ method\n",
    "assert Die(6) == Die(6) # True\n",
    "\n",
    "print(Die(6) == Die(6)) # True\n",
    "print(Die(6) == Die(10)) # False\n",
    "\n",
    "Die(6) == None\n"
   ]
  },
  {
   "cell_type": "code",
   "execution_count": 5,
   "metadata": {},
   "outputs": [
    {
     "name": "stdout",
     "output_type": "stream",
     "text": [
      "Die(sides=6)\n",
      "You rolled: 3\n",
      "True\n",
      "False\n"
     ]
    },
    {
     "data": {
      "text/plain": [
       "False"
      ]
     },
     "execution_count": 5,
     "metadata": {},
     "output_type": "execute_result"
    }
   ],
   "source": [
    "# Having to implement, __repr__, __eq__ method is a bit of a pain. That is why python created the dataclass decorator.\n",
    "# The dataclass decorator will automatically implement __repr__, __eq__ and __init__ methods for us.\n",
    "# The frozen=True argument to the dataclass decorator will make the class immutable. THis means that we can't change the value \n",
    "# of the object after it has been created. This is a good thing because it makes the object easier to reason about, and helps us avoid bugs.\n",
    "### This will fail if we try to change the value of the object after it has been created.\n",
    "# '''\n",
    "# d = Die(6)\n",
    "# d.sides = 10\n",
    "# '''\n",
    "\n",
    "from dataclasses import dataclass\n",
    "from random import randint\n",
    "\n",
    "@dataclass(frozen=True)\n",
    "class Die():\n",
    "    sides: int # this is a type hint, it tells us that sides is an integer.\n",
    "\n",
    "    def sample(self):\n",
    "        return randint(1, self.sides)\n",
    "    \n",
    "six_sided_die = Die(6)\n",
    "\n",
    "def roll_dice():\n",
    "    return six_sided_die.sample() + six_sided_die.sample()\n",
    "\n",
    "print(six_sided_die)\n",
    "\n",
    "play_monopoly = roll_dice()\n",
    "print(f'You rolled: {play_monopoly}')\n",
    "\n",
    "#test the __eq__ method\n",
    "assert Die(6) == Die(6) # True\n",
    "\n",
    "print(Die(6) == Die(6)) # True\n",
    "print(Die(6) == Die(10)) # False\n",
    "\n",
    "Die(6) == None\n"
   ]
  },
  {
   "cell_type": "code",
   "execution_count": 6,
   "metadata": {},
   "outputs": [
    {
     "data": {
      "text/plain": [
       "Die(sides=20)"
      ]
     },
     "execution_count": 6,
     "metadata": {},
     "output_type": "execute_result"
    }
   ],
   "source": [
    "## We can use dataclasses.replace to create a new object with the same value as the old object, but with some changes.\n",
    "## This creates a copy of the object by creating a new object and allows us to change attributes of the object such as the number of sides.\n",
    "import dataclasses\n",
    "\n",
    "d6 = Die(6)\n",
    "d20 = dataclasses.replace(d6, sides=20)\n",
    "d20"
   ]
  },
  {
   "cell_type": "code",
   "execution_count": 7,
   "metadata": {},
   "outputs": [
    {
     "data": {
      "text/plain": [
       "{Die(sides=6): 'hello die'}"
      ]
     },
     "execution_count": 7,
     "metadata": {},
     "output_type": "execute_result"
    }
   ],
   "source": [
    "# Because we made out dataclass immutable, it means it is also hashable. This means we can use it as a key in a dictionary.\n",
    "\n",
    "d = Die(6)\n",
    "{d: 'hello die'}\n"
   ]
  },
  {
   "cell_type": "code",
   "execution_count": 44,
   "metadata": {},
   "outputs": [
    {
     "name": "stdout",
     "output_type": "stream",
     "text": [
      "Die(sides=6)\n",
      "You rolled: 5\n",
      "True\n",
      "False\n"
     ]
    },
    {
     "data": {
      "text/plain": [
       "False"
      ]
     },
     "execution_count": 44,
     "metadata": {},
     "output_type": "execute_result"
    }
   ],
   "source": [
    "# Let's add type hints to our objects.\n",
    "\n",
    "from abc import ABC, abstractmethod\n",
    "from typing import Generic, TypeVar\n",
    "from dataclasses import dataclass\n",
    "from random import randint\n",
    "\n",
    "# We use TypeVar to create a generic type. This is a type that can be any type. \n",
    "# We use it to define the type of the value that the distribution will return.\n",
    "# This way we force the distribution to create a return type on sample.\n",
    "\n",
    "\n",
    "A =TypeVar('A')\n",
    "\n",
    "class Distribution(ABC, Generic[A]):\n",
    "    @abstractmethod\n",
    "    def sample(self) -> A:\n",
    "        pass\n",
    "\n",
    "@dataclass(frozen=True)\n",
    "class Die(Distribution[int]):\n",
    "    sides: int # this is a type hint, it tells us that sides is an integer.\n",
    "\n",
    "    def sample(self) -> int:\n",
    "        return randint(1, self.sides)\n",
    "    \n",
    "six_sided_die = Die(6)\n",
    "\n",
    "def roll_dice():\n",
    "    return six_sided_die.sample() + six_sided_die.sample()\n",
    "\n",
    "print(six_sided_die)\n",
    "\n",
    "play_monopoly = roll_dice()\n",
    "print(f'You rolled: {play_monopoly}')\n",
    "\n",
    "#test the __eq__ method\n",
    "assert Die(6) == Die(6) # True\n",
    "\n",
    "print(Die(6) == Die(6)) # True\n",
    "print(Die(6) == Die(10)) # False\n",
    "\n",
    "Die(6) == None"
   ]
  },
  {
   "cell_type": "code",
   "execution_count": null,
   "metadata": {},
   "outputs": [],
   "source": []
  },
  {
   "cell_type": "code",
   "execution_count": 45,
   "metadata": {},
   "outputs": [
    {
     "data": {
      "text/plain": [
       "3.35"
      ]
     },
     "execution_count": 45,
     "metadata": {},
     "output_type": "execute_result"
    }
   ],
   "source": [
    "import statistics\n",
    "\n",
    "def expected_value(d: Distribution[float], n: int = 100) -> float:\n",
    "    return statistics.mean(d.sample() for _ in range(n))\n",
    "\n",
    "expected_value(Die(6), 100)\n",
    "\n",
    "\n"
   ]
  },
  {
   "cell_type": "markdown",
   "metadata": {},
   "source": [
    "## 2.3.5 Functionality\n",
    "\n",
    "What is the point of creating an abstraction for the distribution.\n",
    "\n",
    "- How does the abstraction help us understand the code? \n",
    "- What kind of mistakes does it prevent—and what kind of mistakes does it encourage?\n",
    "- What kind of added functionality does it give us?\n",
    "\n",
    "**Reasons:**\n",
    "- Reinforcemt learning ivolves both a wide range of distributions as well as algorithms that need to work on top of these distributions.\n",
    "- Distrubition interface will thus:\n",
    "    - **Unify** different applicatication of RL\n",
    "    - **Generalize** our RL code to work in different contexts\n",
    "\n",
    "- In the below code, there could be a more effecient or accurate way for a specific distribution to create samples. By adding it to the interface, We can override the behavior into a new class.\n"
   ]
  },
  {
   "cell_type": "code",
   "execution_count": 62,
   "metadata": {},
   "outputs": [
    {
     "name": "stdout",
     "output_type": "stream",
     "text": [
      "Running as simple loop:[4, 2, 2, 2, 2, 2, 4, 1, 2, 3]\n",
      "Running through interface:[2, 5, 6, 1, 5, 2, 1, 4, 6, 4]\n",
      "Running through list comprehesion took: 10.723766251000598\n",
      "Running through np method 1.5419414440002583\n"
     ]
    }
   ],
   "source": [
    "# Examples:\n",
    "\n",
    "# from collections.abc import Sequence\n",
    "from typing import Sequence\n",
    "import timeit \n",
    "\n",
    "## This example works for getting samples from a die, but it does not tell us anything when coding more than that it is just looping through something.\n",
    "## This is also somehting that we want to be able to do with all distributions, so we can create a method in the Distribution interface to do this.\n",
    "samples = []\n",
    "for _ in range(10):\n",
    "    samples.append(Die(6).sample())\n",
    "\n",
    "\n",
    "print(f'Running as simple loop:{samples[:]}')\n",
    "\n",
    "## This is a better way to do it, but it is still not ideal. We can create a method in the Distribution interface to do this.\n",
    "\n",
    "A =TypeVar('A')\n",
    "\n",
    "class Distribution(ABC, Generic[A]):\n",
    "    @abstractmethod\n",
    "    def sample(self) -> A:\n",
    "        pass\n",
    "    \n",
    "    def sample_n(self, n: int) -> Sequence[A]:\n",
    "        return [self.sample() for _ in range(n)]\n",
    "\n",
    "\n",
    "@dataclass(frozen=True)\n",
    "class Die(Distribution[int]):\n",
    "    sides: int # this is a type hint, it tells us that sides is an integer.\n",
    "\n",
    "    def sample(self) -> int:\n",
    "        return randint(1, self.sides)\n",
    "    \n",
    "\n",
    "d = Die(6)\n",
    "\n",
    "samples = d.sample_n(10)\n",
    "print(f'Running through interface:{samples[:]}')\n",
    "\n",
    "\n",
    "## Overriding the sample_n method in the distribution class.\n",
    "## there is an up-front cost to calling numpy.random.normal the first time, but it can quickly generate additional samples after that. The performance impact is significant\n",
    "import numpy as np\n",
    "\n",
    "@dataclass\n",
    "class Gaussian(Distribution[float]):\n",
    "    μ: float\n",
    "    σ: float\n",
    "    \n",
    "    def sample(self) -> float:\n",
    "        return np.random.normal(self.μ, self.σ)\n",
    "    \n",
    "    def sample_n(self, n: int) -> Sequence[float]:\n",
    "        return np.random.normal(self.μ, self.σ, size=n)\n",
    "\n",
    "d = Gaussian(μ=0, σ=1)\n",
    "\n",
    "#using the list comprehension method that is implemented in our distrubution class.\n",
    "\n",
    "total_time_to_run = timeit.timeit(lambda: [d.sample() for _ in range(10)])\n",
    "# timeit.timeit(lambda: [d.sample() for _ in range(1000)])\n",
    "\n",
    "print(f'Running through list comprehesion took: {total_time_to_run}') \n",
    "#using the np method that is implemented in our Gaussian class, which is overriding the sample_n in the distribution class.\n",
    "\n",
    "total_time_to_run = timeit.timeit(lambda: d.sample_n(10))\n",
    "print(f'Running through np method {total_time_to_run}')"
   ]
  },
  {
   "cell_type": "markdown",
   "metadata": {},
   "source": [
    "# 2.4 Abstracting over Computation\n",
    "\n",
    "- We need to interact with the objects. We can do this through methods.\n",
    "- Objects are first class, methods are not. \n",
    "\n",
    "2.4.1 First-Class Functions\n",
    "- By using Callable from python we can then use the f() to call whatever action we pass out function. \n",
    "\n",
    "```python\n",
    "for _ in range(10):\n",
    "do_something()\n",
    "```\n",
    "\n",
    "Instead of writing a loop each time, we could factor this logic into a function that took n\n",
    "and do_something as arguments:\n",
    "\n",
    "```python\n",
    "def repeat(action: Callable, n: int):\n",
    "for _ in range(n):\n",
    "action()\n",
    "repeat(do_something, 10)\n",
    "```\n",
    "`repeat` takes action and n as arguments, then calls action n times. `action` has the type\n",
    "Callable which, in Python, covers functions as well as any other objects you can call with\n",
    "the f() syntax. We can also specify the return type and arguments a Callable should have;\n",
    "if we wanted the type of a function that took an int and a str as input and returned a bool,\n",
    "we would write `Callable[[int, str], bool]`.\n",
    "\n",
    "\n",
    "**The key idea to remember is that functions are values that we can pass around or store just like any other object.**\n",
    "\n",
    "\n",
    "`lambda`. Lambdas are function literals. We can\n",
    "write 3.0 and get a number without giving it a name, and we can write a lambda expression\n",
    "to get a function without giving it a name. Here’s the same example as with the payoff\n",
    "function but using a lambda instead\n"
   ]
  },
  {
   "cell_type": "code",
   "execution_count": 66,
   "metadata": {},
   "outputs": [
    {
     "data": {
      "text/plain": [
       "100"
      ]
     },
     "execution_count": 66,
     "metadata": {},
     "output_type": "execute_result"
    }
   ],
   "source": [
    "## Callable Example not from Book\n",
    "from typing import Callable\n",
    "\n",
    "def func(x: int) -> str:\n",
    "    return int(x) * int(x)\n",
    "\n",
    "my_callable: Callable[[int], str] = func\n",
    "\n",
    "my_callable(10)\n"
   ]
  },
  {
   "cell_type": "code",
   "execution_count": 119,
   "metadata": {},
   "outputs": [
    {
     "name": "stdout",
     "output_type": "stream",
     "text": [
      "0.0\n",
      "0.49\n",
      "0.47\n"
     ]
    }
   ],
   "source": [
    "## Examples\n",
    "\n",
    "#previous expected_value function\n",
    "\n",
    "import statistics\n",
    "from typing import Callable\n",
    "\n",
    "def expected_value(d: Distribution[float], n: int = 100) -> float:\n",
    "    return statistics.mean(d.sample() for _ in range(n))\n",
    "\n",
    "expected_value(Die(6), 100)\n",
    "\n",
    "\n",
    "# by wrapping the function in a callable, we can have expected_value call a function that handles the distribution of coin which returns a heads or tails string. \n",
    "# The payoff function maps outcomes to numbers and then we calculate the expected value using that mapping\n",
    "\n",
    "def expected_value(\n",
    "        d: Distribution[float], \n",
    "        f: Callable[[A], float],\n",
    "        n: int = 100\n",
    "    ) -> float:\n",
    "\n",
    "    return statistics.mean(f(d.sample()) for _ in range(n))\n",
    "\n",
    "\n",
    "@dataclass(frozen=True)\n",
    "class Coin(Distribution[str]):\n",
    "\n",
    "    def sample(self) -> str:\n",
    "        return 'heads' if randint(0, 1) == 1 else 'tails'\n",
    "\n",
    "def payoff(coin: Coin) -> float:\n",
    "    return 1.0 if coin == 'heads' else 0.0\n",
    "\n",
    "coin = Coin()\n",
    "print(payoff(coin))\n",
    "print(expected_value(coin, payoff))\n",
    "\n",
    "print(expected_value(coin, lambda coin: 1.0 if coin == 'heads' else 0.0))\n"
   ]
  },
  {
   "cell_type": "markdown",
   "metadata": {},
   "source": [
    "## 2.4.2 Iterative Algroithms\n",
    "\n",
    "Algorithms that need to iteratively converge to the correct result are very common in Reinforcement Learning and other machine learning applications.\n"
   ]
  },
  {
   "cell_type": "code",
   "execution_count": 134,
   "metadata": {},
   "outputs": [
    {
     "ename": "KeyboardInterrupt",
     "evalue": "",
     "output_type": "error",
     "traceback": [
      "\u001b[0;31m---------------------------------------------------------------------------\u001b[0m",
      "\u001b[0;31mKeyboardInterrupt\u001b[0m                         Traceback (most recent call last)",
      "Input \u001b[0;32mIn [134]\u001b[0m, in \u001b[0;36m<cell line: 22>\u001b[0;34m()\u001b[0m\n\u001b[1;32m     19\u001b[0m         x_n \u001b[38;5;241m=\u001b[39m (x \u001b[38;5;241m+\u001b[39m (a \u001b[38;5;241m/\u001b[39m x)) \u001b[38;5;241m/\u001b[39m \u001b[38;5;241m2\u001b[39m\n\u001b[1;32m     20\u001b[0m     \u001b[38;5;28;01mreturn\u001b[39;00m x_n\n\u001b[0;32m---> 22\u001b[0m \u001b[43msqrt\u001b[49m\u001b[43m(\u001b[49m\u001b[38;5;241;43m8\u001b[39;49m\u001b[43m,\u001b[49m\u001b[43m \u001b[49m\u001b[38;5;241;43m.01\u001b[39;49m\u001b[43m)\u001b[49m\n",
      "Input \u001b[0;32mIn [134]\u001b[0m, in \u001b[0;36msqrt\u001b[0;34m(a, threshold)\u001b[0m\n\u001b[1;32m     17\u001b[0m x \u001b[38;5;241m=\u001b[39m a \u001b[38;5;241m/\u001b[39m \u001b[38;5;241m2\u001b[39m \u001b[38;5;66;03m# initial guess\u001b[39;00m\n\u001b[1;32m     18\u001b[0m \u001b[38;5;28;01mwhile\u001b[39;00m \u001b[38;5;28mabs\u001b[39m(x_n \u001b[38;5;241m-\u001b[39m x) \u001b[38;5;241m>\u001b[39m threshold:\n\u001b[0;32m---> 19\u001b[0m     x_n \u001b[38;5;241m=\u001b[39m (x \u001b[38;5;241m+\u001b[39m (\u001b[43ma\u001b[49m\u001b[43m \u001b[49m\u001b[38;5;241;43m/\u001b[39;49m\u001b[43m \u001b[49m\u001b[43mx\u001b[49m)) \u001b[38;5;241m/\u001b[39m \u001b[38;5;241m2\u001b[39m\n\u001b[1;32m     20\u001b[0m \u001b[38;5;28;01mreturn\u001b[39;00m x_n\n",
      "\u001b[0;31mKeyboardInterrupt\u001b[0m: "
     ]
    }
   ],
   "source": [
    "# Examples\n",
    "\n",
    "# hard coded stop threshold\n",
    "def sqrt(a: float) -> float:\n",
    "    x_n = a # initial guess\n",
    "    x = a / 2 # initial guess\n",
    "    while abs(x_n - x) > 0.01:\n",
    "        x_n = (x + (a / x)) / 2\n",
    "    return x_n\n",
    "\n",
    "sqrt(4)\n",
    "\n",
    "\n",
    "# fix it so it is not a hard coded threshold \n",
    "def sqrt(a: float, threshold: float) -> float:\n",
    "    x_n = a # initial guess\n",
    "    x = a / 2 # initial guess\n",
    "    while abs(x_n - x) > threshold:\n",
    "        x_n = (x + (a / x)) / 2\n",
    "    return x_n\n",
    "\n",
    "sqrt(8, .01)\n",
    "\n"
   ]
  },
  {
   "cell_type": "code",
   "execution_count": null,
   "metadata": {},
   "outputs": [],
   "source": []
  }
 ],
 "metadata": {
  "kernelspec": {
   "display_name": "ds",
   "language": "python",
   "name": "python3"
  },
  "language_info": {
   "codemirror_mode": {
    "name": "ipython",
    "version": 3
   },
   "file_extension": ".py",
   "mimetype": "text/x-python",
   "name": "python",
   "nbconvert_exporter": "python",
   "pygments_lexer": "ipython3",
   "version": "3.9.12"
  }
 },
 "nbformat": 4,
 "nbformat_minor": 2
}
