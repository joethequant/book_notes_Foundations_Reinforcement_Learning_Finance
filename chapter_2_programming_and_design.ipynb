{
 "cells": [
  {
   "cell_type": "code",
   "execution_count": 1,
   "metadata": {},
   "outputs": [],
   "source": [
    "from random import randint"
   ]
  },
  {
   "cell_type": "code",
   "execution_count": 13,
   "metadata": {},
   "outputs": [
    {
     "name": "stdout",
     "output_type": "stream",
     "text": [
      "Die(sides=6)\n",
      "You rolled: 9\n",
      "True\n",
      "False\n"
     ]
    },
    {
     "data": {
      "text/plain": [
       "True"
      ]
     },
     "execution_count": 13,
     "metadata": {},
     "output_type": "execute_result"
    }
   ],
   "source": [
    "#this is not good as it doesn't:\n",
    "#- generates a random number, but doesn't reference any type of distribution.\n",
    "\n",
    "\n",
    "def six_sided_die():\n",
    "    return randint(1, 6)\n",
    "\n",
    "def roll_dice():\n",
    "    return six_sided_die() + six_sided_die()\n",
    "\n",
    "\n",
    "\n",
    "\n",
    "\n"
   ]
  },
  {
   "cell_type": "code",
   "execution_count": null,
   "metadata": {},
   "outputs": [],
   "source": [
    "# Need to create an abstraction for the distribution.\n",
    "# We use an interface to define the contract for the distribution\n",
    "# interface: a class that is a definition of what we require for something to qualify as a distribution.\n",
    "# Any distribution we create in the future will have to implement the sample method.\n",
    "\n",
    "from abc import ABC, abstractmethod\n",
    "\n",
    "class Distribution(ABC):\n",
    "    @abstractmethod\n",
    "    def sample(self):\n",
    "        pass\n"
   ]
  },
  {
   "cell_type": "code",
   "execution_count": 17,
   "metadata": {},
   "outputs": [
    {
     "name": "stdout",
     "output_type": "stream",
     "text": [
      "Die(sides=6)\n",
      "You rolled: 8\n",
      "True\n",
      "False\n"
     ]
    },
    {
     "data": {
      "text/plain": [
       "False"
      ]
     },
     "execution_count": 17,
     "metadata": {},
     "output_type": "execute_result"
    }
   ],
   "source": [
    "# Now we can create a class that implements the Distribution interface called a concrete class.\n",
    "# This class will be a concrete implementation of the Distribution interface.\n",
    "# Added __repr__ method to make it easier to print the object.\n",
    "# Added __eq__ method to make it easier to compare dice objects correctly using number sides.\n",
    "class Die(Distribution):\n",
    "    def __init__(self, sides):\n",
    "        self.sides = sides\n",
    "\n",
    "    def __repr__(self):\n",
    "        return f'Die(sides={self.sides})'\n",
    "    \n",
    "    def __eq__(self, other):\n",
    "        return isinstance(other, Die) and self.sides == other.sides\n",
    "    \n",
    "    def sample(self):\n",
    "        return randint(1, self.sides)\n",
    "\n",
    "six_sided_die = Die(6)\n",
    "\n",
    "def roll_dice():\n",
    "    return six_sided_die.sample() + six_sided_die.sample()\n",
    "\n",
    "print(six_sided_die)\n",
    "\n",
    "play_monopoly = roll_dice()\n",
    "print(f'You rolled: {play_monopoly}')\n",
    "\n",
    "#test the __eq__ method\n",
    "assert Die(6) == Die(6) # True\n",
    "\n",
    "print(Die(6) == Die(6)) # True\n",
    "print(Die(6) == Die(10)) # False\n",
    "\n",
    "Die(6) == None\n"
   ]
  },
  {
   "cell_type": "code",
   "execution_count": 12,
   "metadata": {},
   "outputs": [
    {
     "name": "stdout",
     "output_type": "stream",
     "text": [
      "Die(sides=6)\n",
      "You rolled: 9\n",
      "True\n",
      "False\n"
     ]
    },
    {
     "data": {
      "text/plain": [
       "False"
      ]
     },
     "execution_count": 12,
     "metadata": {},
     "output_type": "execute_result"
    }
   ],
   "source": [
    "# Having to implement, __repr__, __eq__ method is a bit of a pain. That is why python created the dataclass decorator.\n",
    "# The dataclass decorator will automatically implement __repr__, __eq__ and __init__ methods for us.\n",
    "# The frozen=True argument to the dataclass decorator will make the class immutable. THis means that we can't change the value \n",
    "# of the object after it has been created. This is a good thing because it makes the object easier to reason about, and helps us avoid bugs.\n",
    "### This will fail if we try to change the value of the object after it has been created.\n",
    "# '''\n",
    "# d = Die(6)\n",
    "# d.sides = 10\n",
    "# '''\n",
    "\n",
    "from dataclasses import dataclass\n",
    "from random import randint\n",
    "\n",
    "@dataclass(frozen=True)\n",
    "class Die():\n",
    "    sides: int # this is a type hint, it tells us that sides is an integer.\n",
    "\n",
    "    def sample(self):\n",
    "        return randint(1, self.sides)\n",
    "    \n",
    "six_sided_die = Die(6)\n",
    "\n",
    "def roll_dice():\n",
    "    return six_sided_die.sample() + six_sided_die.sample()\n",
    "\n",
    "print(six_sided_die)\n",
    "\n",
    "play_monopoly = roll_dice()\n",
    "print(f'You rolled: {play_monopoly}')\n",
    "\n",
    "#test the __eq__ method\n",
    "assert Die(6) == Die(6) # True\n",
    "\n",
    "print(Die(6) == Die(6)) # True\n",
    "print(Die(6) == Die(10)) # False\n",
    "\n",
    "Die(6) == None\n"
   ]
  },
  {
   "cell_type": "code",
   "execution_count": 13,
   "metadata": {},
   "outputs": [
    {
     "data": {
      "text/plain": [
       "Die(sides=20)"
      ]
     },
     "execution_count": 13,
     "metadata": {},
     "output_type": "execute_result"
    }
   ],
   "source": [
    "## We can use dataclasses.replace to create a new object with the same value as the old object, but with some changes.\n",
    "## This creates a copy of the object by creating a new object and allows us to change attributes of the object such as the number of sides.\n",
    "import dataclasses\n",
    "\n",
    "d6 = Die(6)\n",
    "d20 = dataclasses.replace(d6, sides=20)\n",
    "d20"
   ]
  },
  {
   "cell_type": "code",
   "execution_count": 14,
   "metadata": {},
   "outputs": [
    {
     "data": {
      "text/plain": [
       "{Die(sides=6): 'hello die'}"
      ]
     },
     "execution_count": 14,
     "metadata": {},
     "output_type": "execute_result"
    }
   ],
   "source": [
    "# Because we made out dataclass immutable, it means it is also hashable. This means we can use it as a key in a dictionary.\n",
    "\n",
    "d = Die(6)\n",
    "{d: 'hello die'}\n"
   ]
  },
  {
   "cell_type": "code",
   "execution_count": 30,
   "metadata": {},
   "outputs": [
    {
     "name": "stdout",
     "output_type": "stream",
     "text": [
      "Die(sides=6)\n",
      "You rolled: 8\n",
      "True\n",
      "False\n"
     ]
    },
    {
     "data": {
      "text/plain": [
       "False"
      ]
     },
     "execution_count": 30,
     "metadata": {},
     "output_type": "execute_result"
    }
   ],
   "source": [
    "# Let's add type hints to our objects.\n",
    "\n",
    "from abc import ABC, abstractmethod\n",
    "from typing import Generic, TypeVar\n",
    "from dataclasses import dataclass\n",
    "from random import randint\n",
    "\n",
    "# We use TypeVar to create a generic type. This is a type that can be any type. \n",
    "# We use it to define the type of the value that the distribution will return.\n",
    "# This way we force the distribution to create a return type on sample.\n",
    "\n",
    "\n",
    "A =TypeVar('A')\n",
    "\n",
    "class Distribution(ABC, Generic[A]):\n",
    "    @abstractmethod\n",
    "    def sample(self) -> A:\n",
    "        pass\n",
    "\n",
    "@dataclass(frozen=True)\n",
    "class Die(Distribution[int]):\n",
    "    sides: int # this is a type hint, it tells us that sides is an integer.\n",
    "\n",
    "    def sample(self) -> int:\n",
    "        return randint(1, self.sides)\n",
    "    \n",
    "six_sided_die = Die(6)\n",
    "\n",
    "def roll_dice():\n",
    "    return six_sided_die.sample() + six_sided_die.sample()\n",
    "\n",
    "print(six_sided_die)\n",
    "\n",
    "play_monopoly = roll_dice()\n",
    "print(f'You rolled: {play_monopoly}')\n",
    "\n",
    "#test the __eq__ method\n",
    "assert Die(6) == Die(6) # True\n",
    "\n",
    "print(Die(6) == Die(6)) # True\n",
    "print(Die(6) == Die(10)) # False\n",
    "\n",
    "Die(6) == None"
   ]
  },
  {
   "cell_type": "code",
   "execution_count": null,
   "metadata": {},
   "outputs": [],
   "source": []
  },
  {
   "cell_type": "code",
   "execution_count": 34,
   "metadata": {},
   "outputs": [
    {
     "data": {
      "text/plain": [
       "3.52"
      ]
     },
     "execution_count": 34,
     "metadata": {},
     "output_type": "execute_result"
    }
   ],
   "source": [
    "import statistics\n",
    "\n",
    "def expected_value(d: Distribution[float], n: int = 100) -> float:\n",
    "    return statistics.mean(d.sample() for _ in range(n))\n",
    "\n",
    "expected_value(Die(6), 100)\n",
    "\n",
    "\n"
   ]
  },
  {
   "cell_type": "code",
   "execution_count": null,
   "metadata": {},
   "outputs": [],
   "source": []
  }
 ],
 "metadata": {
  "kernelspec": {
   "display_name": "ds",
   "language": "python",
   "name": "python3"
  },
  "language_info": {
   "codemirror_mode": {
    "name": "ipython",
    "version": 3
   },
   "file_extension": ".py",
   "mimetype": "text/x-python",
   "name": "python",
   "nbconvert_exporter": "python",
   "pygments_lexer": "ipython3",
   "version": "3.9.12"
  }
 },
 "nbformat": 4,
 "nbformat_minor": 2
}
